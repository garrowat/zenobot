{
 "cells": [
  {
   "cell_type": "code",
   "execution_count": 1,
   "metadata": {},
   "outputs": [],
   "source": [
    "from fastai.nlp import *\n",
    "from fastai.lm_rnn import *\n",
    "from fastai import sgdr\n",
    "from torchtext import vocab, data\n",
    "\n",
    "import pdb"
   ]
  },
  {
   "cell_type": "code",
   "execution_count": 30,
   "metadata": {},
   "outputs": [],
   "source": [
    "class CharSeqStatefulLSTM(nn.Module):\n",
    "    def __init__(self, vocab_size, n_fac, bs, nl):\n",
    "        super().__init__()\n",
    "        self.vocab_size,self.nl = vocab_size,nl\n",
    "        self.e = nn.Embedding(vocab_size, n_fac)\n",
    "        self.rnn = nn.LSTM(n_fac, n_hidden, nl, dropout=0.5)\n",
    "        self.l_out = nn.Linear(n_hidden, vocab_size)\n",
    "        self.init_hidden(bs)\n",
    "        \n",
    "    def forward(self, cs, **kwargs):\n",
    "        bs = cs[0].size(0)\n",
    "        if self.h[0].size(1) != bs: self.init_hidden(bs)\n",
    "        self.rnn.flatten_parameters()\n",
    "        self.h = (self.h[0].cpu(), self.h[1].cpu())\n",
    "        ecs = self.e(cs)\n",
    "        outp,h = self.rnn(ecs, self.h)\n",
    "        #pdb.set_trace()\n",
    "        #self.h = repackage_var(h)\n",
    "        return F.log_softmax(self.l_out(outp), dim=-1).view(-1, self.vocab_size)\n",
    "    \n",
    "    def init_hidden(self, bs):\n",
    "        self.h = (V(torch.zeros(self.nl, bs, n_hidden)),\n",
    "                  V(torch.zeros(self.nl, bs, n_hidden)))"
   ]
  },
  {
   "cell_type": "code",
   "execution_count": 31,
   "metadata": {},
   "outputs": [],
   "source": [
    "class CharSeqStatefulLSTM512(nn.Module):\n",
    "    def __init__(self, vocab_size, n_fac, bs, nl):\n",
    "        super().__init__()\n",
    "        self.vocab_size,self.nl = vocab_size,nl\n",
    "        self.e = nn.Embedding(vocab_size, n_fac)\n",
    "        self.rnn = nn.LSTM(n_fac, n_hidden2, nl, dropout=0.5)\n",
    "        self.l_out = nn.Linear(n_hidden2, vocab_size)\n",
    "        self.init_hidden(bs)\n",
    "        \n",
    "    def forward(self, cs, **kwargs):\n",
    "        bs = cs[0].size(0)\n",
    "        if self.h[0].size(1) != bs: self.init_hidden(bs)\n",
    "        self.rnn.flatten_parameters()\n",
    "        self.h = (self.h[0].cpu(), self.h[1].cpu())\n",
    "        ecs = self.e(cs)\n",
    "        outp,h = self.rnn(ecs, self.h)\n",
    "        #pdb.set_trace()\n",
    "        #self.h = repackage_var(h)\n",
    "        return F.log_softmax(self.l_out(outp), dim=-1).view(-1, self.vocab_size)\n",
    "    \n",
    "    def init_hidden(self, bs):\n",
    "        self.h = (V(torch.zeros(self.nl, bs, n_hidden2)),\n",
    "                  V(torch.zeros(self.nl, bs, n_hidden2)))"
   ]
  },
  {
   "cell_type": "code",
   "execution_count": 32,
   "metadata": {},
   "outputs": [],
   "source": [
    "PATH='data/proverbs/'\n",
    "PATH2='data/proverbs2/'\n",
    "PATH3='data/proverbs3/'\n",
    "TRN_PATH = 'train/'\n",
    "VAL_PATH = 'valid/'\n",
    "TRN = PATH + TRN_PATH\n",
    "VAL = PATH + VAL_PATH\n",
    "TRN2 = PATH2 + TRN_PATH\n",
    "VAL2 = PATH2 + VAL_PATH\n",
    "TRN3 = PATH3 + TRN_PATH\n",
    "VAL3 = PATH3 + VAL_PATH"
   ]
  },
  {
   "cell_type": "code",
   "execution_count": 33,
   "metadata": {},
   "outputs": [
    {
     "data": {
      "text/plain": [
       "('data/proverbs/', 'data/proverbs/train/', 'data/proverbs/valid/')"
      ]
     },
     "execution_count": 33,
     "metadata": {},
     "output_type": "execute_result"
    }
   ],
   "source": [
    "PATH, TRN, VAL"
   ]
  },
  {
   "cell_type": "code",
   "execution_count": 34,
   "metadata": {},
   "outputs": [
    {
     "data": {
      "text/plain": [
       "<torchtext.data.field.Field at 0x1adeb1e22b0>"
      ]
     },
     "execution_count": 34,
     "metadata": {},
     "output_type": "execute_result"
    }
   ],
   "source": [
    "TEXT = data.Field(lower=True, tokenize=list)\n",
    "bs=64; bptt=8; n_fac=42; n_hidden=128\n",
    "\n",
    "TEXT"
   ]
  },
  {
   "cell_type": "code",
   "execution_count": 35,
   "metadata": {},
   "outputs": [
    {
     "data": {
      "text/plain": [
       "<torchtext.data.field.Field at 0x1adeb1e2668>"
      ]
     },
     "execution_count": 35,
     "metadata": {},
     "output_type": "execute_result"
    }
   ],
   "source": [
    "TEXT3 = data.Field(lower=True, tokenize=list)\n",
    "bs=64; bptt=8; n_fac=42; n_hidden2=512\n",
    "\n",
    "TEXT3"
   ]
  },
  {
   "cell_type": "code",
   "execution_count": 36,
   "metadata": {},
   "outputs": [],
   "source": [
    "FILES = dict(train=TRN_PATH, validation=VAL_PATH, test=VAL_PATH)\n",
    "md = LanguageModelData.from_text_files(PATH, TEXT, **FILES, bs=bs, bptt=bptt, min_freq=3)"
   ]
  },
  {
   "cell_type": "code",
   "execution_count": 37,
   "metadata": {},
   "outputs": [
    {
     "data": {
      "text/plain": [
       "<fastai.nlp.LanguageModelData at 0x1adeb5c2080>"
      ]
     },
     "execution_count": 37,
     "metadata": {},
     "output_type": "execute_result"
    }
   ],
   "source": [
    "md"
   ]
  },
  {
   "cell_type": "code",
   "execution_count": 38,
   "metadata": {},
   "outputs": [],
   "source": [
    "m = CharSeqStatefulLSTM(md.nt, n_fac, 256, 2)\n"
   ]
  },
  {
   "cell_type": "code",
   "execution_count": 39,
   "metadata": {},
   "outputs": [],
   "source": [
    "m.load_state_dict(torch.load(f'{PATH}models/gen_0_dict', map_location=lambda storage, loc: storage))\n"
   ]
  },
  {
   "cell_type": "code",
   "execution_count": 40,
   "metadata": {},
   "outputs": [],
   "source": [
    "m = m.cpu()\n"
   ]
  },
  {
   "cell_type": "code",
   "execution_count": 41,
   "metadata": {},
   "outputs": [
    {
     "data": {
      "text/plain": [
       "CharSeqStatefulLSTM(\n",
       "  (e): Embedding(37, 42)\n",
       "  (rnn): LSTM(42, 128, num_layers=2, dropout=0.5)\n",
       "  (l_out): Linear(in_features=128, out_features=37, bias=True)\n",
       ")"
      ]
     },
     "execution_count": 41,
     "metadata": {},
     "output_type": "execute_result"
    }
   ],
   "source": [
    "m.eval()"
   ]
  },
  {
   "cell_type": "code",
   "execution_count": 42,
   "metadata": {},
   "outputs": [
    {
     "data": {
      "text/plain": [
       "CharSeqStatefulLSTM(\n",
       "  (e): Embedding(37, 42)\n",
       "  (rnn): LSTM(42, 128, num_layers=2, dropout=0.5)\n",
       "  (l_out): Linear(in_features=128, out_features=37, bias=True)\n",
       ")"
      ]
     },
     "execution_count": 42,
     "metadata": {},
     "output_type": "execute_result"
    }
   ],
   "source": [
    "FILES2 = dict(train=TRN_PATH, validation=VAL_PATH, test=VAL_PATH)\n",
    "md2 = LanguageModelData.from_text_files(PATH2, TEXT, **FILES, bs=bs, bptt=bptt, min_freq=3)\n",
    "\n",
    "m2 = CharSeqStatefulLSTM(md2.nt, n_fac, 256, 2)\n",
    "m2.load_state_dict(torch.load(PATH2 + 'models/gen_1_dict', map_location=lambda storage, loc: storage))\n",
    "m2.eval()"
   ]
  },
  {
   "cell_type": "code",
   "execution_count": 43,
   "metadata": {},
   "outputs": [
    {
     "data": {
      "text/plain": [
       "CharSeqStatefulLSTM512(\n",
       "  (e): Embedding(59, 42)\n",
       "  (rnn): LSTM(42, 512, num_layers=2, dropout=0.5)\n",
       "  (l_out): Linear(in_features=512, out_features=59, bias=True)\n",
       ")"
      ]
     },
     "execution_count": 43,
     "metadata": {},
     "output_type": "execute_result"
    }
   ],
   "source": [
    "FILES3 = dict(train=TRN_PATH, validation=VAL_PATH, test=VAL_PATH)\n",
    "md3 = LanguageModelData.from_text_files(PATH3, TEXT3, **FILES, bs=bs, bptt=bptt, min_freq=3)\n",
    "\n",
    "m3 = CharSeqStatefulLSTM512(md3.nt, n_fac, 256, 2)\n",
    "m3.load_state_dict(torch.load(PATH3 + 'models/gen_2_dict', map_location=lambda storage, loc: storage))\n",
    "m3.eval()"
   ]
  },
  {
   "cell_type": "code",
   "execution_count": 44,
   "metadata": {},
   "outputs": [],
   "source": [
    "def get_next(inp, gen):\n",
    "    new_TEXT = ''\n",
    "    if gen == 1:\n",
    "        sel_m = m2\n",
    "        new_TEXT = TEXT\n",
    "    elif gen == 2:\n",
    "        sel_m = m3\n",
    "        new_TEXT = TEXT3\n",
    "    else: \n",
    "        sel_m = m\n",
    "        new_TEXT = TEXT\n",
    "    idxs = new_TEXT.numericalize(inp, device=-1)\n",
    "    pid = idxs.transpose(0,1)\n",
    "    pid = pid.cpu()\n",
    "    vpid = VV(pid)\n",
    "    vpid = vpid.cpu()\n",
    "    p = sel_m(vpid)\n",
    "    r = torch.multinomial(p[-1].exp(), 1)\n",
    "    return new_TEXT.vocab.itos[to_np(r)[0]]"
   ]
  },
  {
   "cell_type": "code",
   "execution_count": 45,
   "metadata": {},
   "outputs": [],
   "source": [
    "def get_next_n(inp, n, gen):\n",
    "    res = inp\n",
    "    for i in range(n):\n",
    "        c = get_next(inp, gen)\n",
    "        res += c\n",
    "        inp = inp[1:]+c\n",
    "        if c == '.': break\n",
    "    return res"
   ]
  },
  {
   "cell_type": "code",
   "execution_count": 51,
   "metadata": {},
   "outputs": [
    {
     "data": {
      "text/plain": [
       "'People only the consists.'"
      ]
     },
     "execution_count": 51,
     "metadata": {},
     "output_type": "execute_result"
    }
   ],
   "source": [
    "get_next_n('People ', 1000, 2)"
   ]
  },
  {
   "cell_type": "code",
   "execution_count": null,
   "metadata": {},
   "outputs": [],
   "source": []
  },
  {
   "cell_type": "code",
   "execution_count": null,
   "metadata": {},
   "outputs": [],
   "source": []
  }
 ],
 "metadata": {
  "kernelspec": {
   "display_name": "Python 3",
   "language": "python",
   "name": "python3"
  },
  "language_info": {
   "codemirror_mode": {
    "name": "ipython",
    "version": 3
   },
   "file_extension": ".py",
   "mimetype": "text/x-python",
   "name": "python",
   "nbconvert_exporter": "python",
   "pygments_lexer": "ipython3",
   "version": "3.6.5"
  }
 },
 "nbformat": 4,
 "nbformat_minor": 2
}
